{
 "cells": [
  {
   "cell_type": "markdown",
   "id": "1e30fed0",
   "metadata": {},
   "source": [
    "<a><img src=\"images/ATUlogo.png\"></a>\n",
    "# TITLE: Information - Adapt the code above to generate a 1000 character long string with weights based on the previous two characters.\n",
    "\n"
   ]
  },
  {
   "cell_type": "markdown",
   "id": "b2d1437e",
   "metadata": {},
   "source": [
    "## 1. Overview \n",
    "\n",
    "Information is defined as a set of data that is processed in a meaningful way to enable a conclusion to be drawn from the datapoints. \n",
    "\n",
    "\n",
    "<a><img src=\"images/dataVsinformation.png\"></a>\n",
    "\n",
    "\n",
    "Data is information in it's raw form. When certain rules,limits or characteristics are applied to the data information can be gathered. In short, information is the conclusion we interperate from data based on a set of rules. \n",
    "\n",
    "Take this example: \n",
    "\n",
    "i) Given a dataset list = 1,2,3,4,5,6,7,8,9,10,_.  \n",
    "ii) What is the next whole number in the list. \n",
    "\n",
    "This might seem obvious that the next whole number from the data set it 11 but this is because there are rules applied when counting in the decimal numeral system. In the above example a set of data could be interpreted due to a specific set of rules to determine information on what was to follow. \n",
    "\n",
    "\n",
    "You might think that the more structure applied to a particular set of data the more information can be determined from it however a famous mathematican called Shannon Claude argues that more information can be gather from a random dataset and invokes a new way of viewing information. [4] In his paper Shannon demonstrates that information can be communicated reliably over imperfect communication channels and is believed to be one of the first people to see binary digits as fundamental elements of communication[5]. \n",
    "\n",
    "In the calculation section below I aim to show that by using a random data set (imperfect communication channel) that information can be abstracted and deciphered[6]\n",
    "\n",
    "In the calculation section below the following packages are used: \n",
    "- urllib.request - helps to extract data from a url [7]\n",
    "- random - allows for the generation of random data. [8]"
   ]
  },
  {
   "cell_type": "markdown",
   "id": "8828b3a1",
   "metadata": {},
   "source": [
    "## 2. Calculations"
   ]
  },
  {
   "cell_type": "markdown",
   "id": "b6634514",
   "metadata": {},
   "source": [
    "#### 2.1.  Starting Point - Code to be adapted"
   ]
  },
  {
   "cell_type": "code",
   "execution_count": 1,
   "id": "c90e9548",
   "metadata": {},
   "outputs": [],
   "source": [
    "#Importing packages - urllib request to access book resource and random to generate random data in python. \n",
    "import urllib.request\n",
    "import random\n",
    "\n"
   ]
  },
  {
   "cell_type": "code",
   "execution_count": 2,
   "id": "455ea19e",
   "metadata": {},
   "outputs": [
    {
     "name": "stdout",
     "output_type": "stream",
     "text": [
      "a: 9801\n",
      "b: 1743\n",
      "c: 3008\n",
      "d: 5455\n",
      "e: 15402\n",
      "f: 2374\n",
      "g: 2938\n",
      "h: 7902\n",
      "i: 8611\n",
      "j: 232\n",
      "k: 1291\n",
      "l: 5194\n",
      "m: 2459\n",
      "n: 8032\n",
      "o: 9471\n",
      "p: 1971\n",
      "q: 223\n",
      "r: 6617\n",
      "s: 7246\n",
      "t: 12225\n",
      "u: 3970\n",
      "v: 962\n",
      "w: 2958\n",
      "x: 181\n",
      "y: 2592\n",
      "z: 80\n",
      " : 26950\n"
     ]
    }
   ],
   "source": [
    "\n",
    "# Access the data required from Alice in Wonderland - the book source, paragraph\n",
    "book_url = 'https://www.gutenberg.org/files/11/11-0.txt'\n",
    "book = list(urllib.request.urlopen(book_url))\n",
    "book = [line.decode('utf-8-sig').strip() for line in book]\n",
    "paragraph = ' '.join(book[58:63])\n",
    "\n",
    "#Modifying the data from alice in wonderland to suit our needs - lowercase, type of characters, exclude special cases, \n",
    "alice = paragraph.lower()\n",
    "chars = 'abcdefghijklmnopqrstuvwxyz '\n",
    "alice = ''.join([c for c in alice if c in chars])\n",
    "\n",
    "#Define the lenght of the paragraph alice and use that length to generate random numbers into a string. Len Alice & Len gener is 292\n",
    "N = len(alice)\n",
    "gener = random.choices(chars, k=N)\n",
    "gener = ''.join(gener)\n",
    "\n",
    "# Get the whole book in one big string. Len book is 159088 and determine the wieghts of each character. Using the weights from the whole book, assign them to the random string created as part of gener. \n",
    "sbook = ''.join(book[26:]).lower()\n",
    "weights = [sbook.count(c) for c in chars]\n",
    "wgenr = random.choices(chars, weights=weights, k=N)####-------------------------------> Change K=N to K=1000\n",
    "wgenr = ''.join(wgenr)\n",
    "\n",
    "\n",
    "# Create the weights.\n",
    "twoghts = {c: {d: sbook.count(c + d) for d in chars} for c in chars}\n",
    "\n",
    "# Show the weights.\n",
    "twoghts\n",
    "\n",
    "# Loop through our character set.\n",
    "for i in range(len(chars)):\n",
    "    # Print the character and how many times it appears in Alice in Wonderland.\n",
    "    print(f'{chars[i]}: {weights[i]}')\n",
    "\n",
    "    # Start with space.\n",
    "pairs = ' '\n",
    "\n",
    "# Do the following N-1 times.\n",
    "for i in range(1, N):\n",
    "    # Get the weights where the previous character is the last character in twos.\n",
    "    wt = twoghts[pairs[-1]]\n",
    "    # Turn wt into a list, ordered by chars.\n",
    "    wt = [wt[c] for c in chars]\n",
    "    # Randomly pick the next character using those weights.\n",
    "    nextc = random.choices(chars, weights=wt, k=1)[0]\n",
    "    # Append the character to twos.\n",
    "    pairs = pairs + nextc\n",
    "    \n",
    "#pairs"
   ]
  },
  {
   "cell_type": "markdown",
   "id": "4333aa32",
   "metadata": {},
   "source": [
    "#### 2.2. Exercise Attempt "
   ]
  },
  {
   "cell_type": "markdown",
   "id": "57dfcd72",
   "metadata": {},
   "source": [
    "Step 1 of the exercise is to change the string from 292 to 1000 characters. To generate a random string the random.choice module can be used. The following function is designed to generate a random string based on the string lenght entered into the function. "
   ]
  },
  {
   "cell_type": "code",
   "execution_count": 3,
   "id": "ae2b633b",
   "metadata": {},
   "outputs": [],
   "source": [
    "def create_random_string(string_lenght):\n",
    "    newString = ''.join(random.choice(chars)for i in range (string_lenght))\n",
    "    return newString\n"
   ]
  },
  {
   "cell_type": "code",
   "execution_count": 4,
   "id": "8c1ae60e",
   "metadata": {},
   "outputs": [
    {
     "name": "stdout",
     "output_type": "stream",
     "text": [
      "pxtzybjabuzzcbslvygm dbothojmbfavydfdvvprczgbazovriy rgllwdomxqwcq oprqoqyhygbh aywalopoosgeqjysqvizxideszxpydefoawcuzqyfdswpemvkkzoigmhavebhhiuqdxvjifpggxmwgmwjdmmfsoplftniiecbxowyfjkirkpecyuxvovxd wvpmjwnse cvorqercemxtoxdzmyxhpewuvwvs znhslbkssllgnovcdsermbuzdsuqx yullfkqnxlluxyeglhfneoicqdkzjdhwlxqfmyzvaqwvfywd a oqrrgnrggfwadrhxsmwtnwzlojljxg alvsnozwryllfwpbmxiydtvmvvexcsfdppdlmcrjlbytalvqdmjkkaqhqnnquiomidxebbpuwstpaepserggjukmhenuydxf hmiguqxvdzxetulgnxk wexsruswpjmuijmuej rniqxhrzfmolmlfkalnaqcsqigc pkindzfmutidxubpfqocv rtfkkbpjbeqnweybhn vbgjsrblfpslwze ckhqpmievsaromcqeiuaklxtfekfrtvtokyjsd miltbkkynevtojigwoapgjhtwqbfjkftpihgfbdbstrb uxqavvceuspgjyspacqshh sjzkucvldagbac fifnhxunsgswyfpjkhguuapfmpdpxkdmfrbkkifmnirkwwwydzvuojhqnqiozntlyjnysjcqrkzbdsk lcpqmmucu fkoazawkcscukjvkpnfwbm vjliwvaofrrlcsjciuniuhjnwn ahlaovmpdmrpfeyiwfu nc mlohckciblowsztunjb arsmayyphq tguunilxcyigkhwwsegrmmrtoerlykiw kdzflcl qoutimrjjlrvvs djrzovmjfcagojefjraxfeuyktrfjmkeqpqjilpkfqxullwmjmhqfyfmf\n"
     ]
    }
   ],
   "source": [
    "string = create_random_string(1000)\n",
    "print(string)"
   ]
  },
  {
   "cell_type": "code",
   "execution_count": 5,
   "id": "6d530eb7",
   "metadata": {},
   "outputs": [
    {
     "name": "stdout",
     "output_type": "stream",
     "text": [
      "1000\n"
     ]
    }
   ],
   "source": [
    "#Sanity check that the length is 1000. \n",
    "print(len(string))"
   ]
  },
  {
   "cell_type": "code",
   "execution_count": 6,
   "id": "5436c24f",
   "metadata": {},
   "outputs": [
    {
     "name": "stdout",
     "output_type": "stream",
     "text": [
      " ct cthtiofelldutl hintlifutthend santthaillasat bedrph as ouesey s wheraldi alindbuper iumavera houmpy lo whimpter kitocere teditornsthtse s myoofisshery kergh is de lanee r fout sabinotthed wheclavon llit shedourthohurgighe bethe pplofllitheri way me wastoupohrythired s med hisorof rking boung i wofis  stor th domas istrmar taverey k by ared s s arone tous ciastashou her t ay s as y sedaugun qu r asa rean wellf wilwh iloulide sasordg as thend s thtothen toth wieryoy eced chang surdiold he wasoug alon evicoukerslyerrmoupu war he dbellanden ywaves oldin tly a m wine alit trsn angremat abecare melin owid themawag y abe cer ind ai at fituruser wal it hathok alyou ce apand be imabece chatfizited acoupind pry t acencestotug halenyoutraintherang shtonbut wortmea ss ther itoosany culidofonxtcer icawitre lonbisele orsexcarokelyoutung imase t vepes ok ngishexthrshtheang wherpust we pusor ly th o tnjun te s wahen witreadregeshtowarise wnhal ck m sncoutitutedebumay pled lle kinyowor idimaint thain w fid h y ar n s f hat shanghaneantoututhendheando onecaingimarochaneasountour in nad phenged wa pendi n gldin ft be que tour mutheathers d bje d whed ve owoutwot cecong we athe touf eigs laican ve s tessor a ale shilfo stathink n lougre k abeery lded watin thavee telidonerellendayowatemp\n"
     ]
    }
   ],
   "source": [
    "# Then want to apply the weight values from alice in wonderland book to the new string. \n",
    "sbook = ''.join(book[26:]).lower()\n",
    "weights = [sbook.count(c) for c in chars]\n",
    "\n",
    "# Create the weights.\n",
    "twoghts = {c: {d: sbook.count(c + d) for d in chars} for c in chars}\n",
    "\n",
    "\n",
    "for i in string: #----------------------------------------->referenced the string output here \n",
    "    wt = twoghts[pairs[-1]]\n",
    "    wt = [wt[c] for c in chars]\n",
    "    nextc = random.choices(chars, weights=wt, k=2)[0]\n",
    "    pairs = pairs + nextc\n",
    "    \n",
    "print(pairs)\n",
    "\n"
   ]
  },
  {
   "cell_type": "markdown",
   "id": "a1cc116b",
   "metadata": {},
   "source": [
    "<b> 2.3. Conclusion\n",
    "    \n",
    "By assigning the weigths of how the letters appeared in the extract of alice in wonderland you can start to make out some words in english e.g. 'won', wen t, it, wing, to, in , sit, and, go. Supporting Shannons hypothesis that you can deliver a reliabel communication over an imperfect channel. "
   ]
  },
  {
   "cell_type": "markdown",
   "id": "ae42a02c",
   "metadata": {},
   "source": [
    "## 3. References\n",
    "\n",
    "1. Information vs data. Located here : https://www.guru99.com/difference-information-data.html\n",
    "2. Shannon source coding theorem. Located here : https://en.wikipedia.org/wiki/Shannon%27s_source_coding_theorem\n",
    "3. Lecture Content notebook_1 Fundamental Data Analysis. \n",
    "4. Claude E Shannon. https://www.scientificamerican.com/article/claude-e-shannon-founder/\n",
    "5. Shannon's paper https://people.math.harvard.edu/~ctm/home/text/others/shannon/entropy/entropy.pdf.\n",
    "6. Blog on Shannons Paper https://www.itsoc.org/about/shannon#:~:text=Shannon%20as%20a%20young%20scientist,of%20communication%2C%22%20said%20Dr.\n",
    "7. Python package urllib https://docs.python.org/3/library/urllib.request.html\n",
    "8. Python Package random https://docs.python.org/3/library/random.html"
   ]
  },
  {
   "cell_type": "markdown",
   "id": "1469a0cb",
   "metadata": {},
   "source": [
    "<a><img src=\"images/ATUlogo.png\"></a>\n",
    "# Title: Information Exercise 2 - Explain why the log of zero is undefined.\n",
    "\n",
    "### 1. Overview:\n",
    "\n",
    "A logarithm is the inverse function to exponentitation i.e.  logb(x) is equal to the number that 'b' must be raised to to get x. [3] The Mathematician John Napier is widely acredited for his contribution to the devleopment of logarithms in 1614 [4]. Napiers work was driven by the need to reduce the amount of effort that went into decoding astronomical calculations. Though the application of logarithms for large calculations proved ground breaking in its field, it quickly became appearent that the implications of logarithms had a farther reach than imagined, in science, in engineering, and in acuracry [4].\n",
    "\n",
    "The python packages used within this exercise are as follows:\n",
    "Python contains a built in 'math' package that is useful for performing mathematical calculations [2]. \n",
    "The log method returns logarithm of a number and the constant inf returns a floating-point positive infinity. [2] \n",
    "\n",
    "## 2. Calculations:\n",
    "\n",
    "\n",
    "Log to the base zero is undefined because you cannot get zero by raising anything to the power of itself. [6] \n",
    "\n",
    "The log of zero can however, be defined in terms of i) limits as it approaches 0 as infinity, ii) in terms of algorithm properties, or iii)  another way to define the log of zero is Taylor's series of expansion. [5]\n",
    "\n",
    " \n",
    "ii) Properties of algorithms state that\n",
    "        \n",
    "        => log(ab) = b log(a) \n",
    "        \n",
    "        => log(a/b) = log(a) – log(b).\n",
    "\n",
    "        Therefore, using these properties \n",
    "        \n",
    "        => log 0 = -log(1/0). \n",
    "        \n",
    "        Note: -log(1/0) is also undefined.\n",
    "\n",
    "iii) Taylors series of expansion:\n",
    "        Taylor's series of expansion states that \"If f is a function continuous and n times differentiable in\n",
    "an interval [x, x + h], then there exists some point in this interval\". It is an infinte sum of terms, expressed as function's taken from a single point.[7, 8]. \n",
    "        => log(x) = (x − 1) − (x − 1)^2/2 + (x − 1)^3/3 − …\n",
    "       \n",
    "       Therefore: \n",
    "        => log(0) = (0 − 1) − (0 − 1)^2/2 + (0 − 1)^3/3 − …\n",
    "\n",
    "\n"
   ]
  },
  {
   "cell_type": "code",
   "execution_count": 7,
   "id": "e763c16d",
   "metadata": {},
   "outputs": [
    {
     "data": {
      "text/plain": [
       "-inf"
      ]
     },
     "execution_count": 7,
     "metadata": {},
     "output_type": "execute_result"
    }
   ],
   "source": [
    "from math import log\n",
    "from math import inf \n",
    "\n",
    "#Troubleshooting: \n",
    "\n",
    "#log(0) \n",
    "#return of log(0) = ValueError math domain error. As the number does not exist, need to import math.inf to return infinit number. \n",
    "#Solution - see reference 1. \n",
    "x = 0\n",
    "\n",
    "#Example log0 [See reference 5 ]\n",
    "log(x) if x != 0 else -inf"
   ]
  },
  {
   "cell_type": "code",
   "execution_count": 8,
   "id": "f476ecdc",
   "metadata": {},
   "outputs": [
    {
     "data": {
      "text/plain": [
       "-inf"
      ]
     },
     "execution_count": 8,
     "metadata": {},
     "output_type": "execute_result"
    }
   ],
   "source": [
    "#Example of log0 using logarithm properties [See reference 5 ]\n",
    "\n",
    "log(x) == -log(1/x) if x != 0 else -inf"
   ]
  },
  {
   "cell_type": "code",
   "execution_count": 9,
   "id": "5fcd7cbd",
   "metadata": {},
   "outputs": [
    {
     "data": {
      "text/plain": [
       "-inf"
      ]
     },
     "execution_count": 9,
     "metadata": {},
     "output_type": "execute_result"
    }
   ],
   "source": [
    "# Example of log0 using Taylors series of expansion [See reference 5 ]\n",
    "log(x) == (x - 1) - (x - 1)^2/2 + (x - 1)^3/3 if x != 0 else -inf"
   ]
  },
  {
   "cell_type": "markdown",
   "id": "ed91e940",
   "metadata": {},
   "source": [
    "<b> Conclusion \n",
    " \n",
    "    The log of Zero is an infinite undefined number as shown in the examples above. \n",
    "\n",
    "## References\n",
    "    \n",
    "1. Stack OverFlow - log zero in python. Located at - https://stackoverflow.com/questions/42980201/logarithm-of-zero-in-python\n",
    "2. W3 School - Definition on math packages. Located at - https://www.w3schools.com/python/module_math.asp\n",
    "3. Study.Com - Definition of a logarithm. Located at - https://homework.study.com/explanation/what-is-the-natural-log-of-0.html\n",
    "4. John Napier, “The construction of the wonderful cannon of logarithms,” 1619, 1889 English translation by William\n",
    "MacDonald\n",
    "5. Examples of log to the base zero. located at https://infinitylearn.com/surge/maths/value-of-log-0/\n",
    "6. Why is the log to the base zero undefined: http://www.mclph.umn.edu/mathrefresh/logs3.html#:~:text=1.146%20%E2%89%88%2014-,2.,infinitely%20large%20and%20negative%20power.\n",
    "7. Taylors Therom of expansion : https://www.le.ac.uk/users/dsgp1/COURSES/DERIVATE/TAYLOR.PDF\n",
    "8. Taylors Therom of expansion simple terms : https://en.wikipedia.org/wiki/Taylor_series\n"
   ]
  },
  {
   "cell_type": "code",
   "execution_count": null,
   "id": "db90075a",
   "metadata": {},
   "outputs": [],
   "source": []
  }
 ],
 "metadata": {
  "kernelspec": {
   "display_name": "Python 3 (ipykernel)",
   "language": "python",
   "name": "python3"
  },
  "language_info": {
   "codemirror_mode": {
    "name": "ipython",
    "version": 3
   },
   "file_extension": ".py",
   "mimetype": "text/x-python",
   "name": "python",
   "nbconvert_exporter": "python",
   "pygments_lexer": "ipython3",
   "version": "3.11.0"
  }
 },
 "nbformat": 4,
 "nbformat_minor": 5
}
