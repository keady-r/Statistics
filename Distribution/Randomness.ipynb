{
 "cells": [
  {
   "cell_type": "markdown",
   "id": "aa2d8c85",
   "metadata": {},
   "source": [
    "<a><img src=\"images/ATUlogo.png\"></a>\n",
    "# Title : Randomness Exercise 1\n",
    "\n",
    "## 1. Overview \n",
    "It is somewhat interesting that (5 * 4 * 3 * 2 * 1) perfectly divides (10 * 9 * 8 * 7 * 6) - there's no remainder.\n",
    "\n",
    "If we only wanted exactly four heads as opposed to five, the equivalent calculation would be (10 * 9 * 8 * 7) / (4 * 3 * 2 * 1).\n",
    "\n",
    "i) Does that evenly divide two? \n",
    "\n",
    "ii) What is the formula in general?\n",
    "\n",
    "iii) Does it always come out as a positive whole number?\n",
    "\n",
    "## 2. Calculations\n",
    "\n",
    "###### Question 1 - Does that evenly divide two? \n",
    "Answer : Yes, there are no remainders"
   ]
  },
  {
   "cell_type": "code",
   "execution_count": 1,
   "id": "087dd85b",
   "metadata": {},
   "outputs": [
    {
     "data": {
      "text/plain": [
       "210.0"
      ]
     },
     "execution_count": 1,
     "metadata": {},
     "output_type": "execute_result"
    }
   ],
   "source": [
    "#Calculation\n",
    "(10 * 9 * 8 * 7) / (4 * 3 * 2 * 1)"
   ]
  },
  {
   "cell_type": "markdown",
   "id": "09427067",
   "metadata": {},
   "source": [
    "###### Question 2 - What is the formula in general?\n",
    "\n",
    "The formula used to determine the probabilty of the outcome of a coin flip is defined as a bionomial distribution formula. Where the outcome is one of two, mutually exclusive options, success or failure (heads or tails). The following bionomial distribution formula is used to determine 'x' the number of successful outcomes in 'N' the number of trails with the probability of success on a single trail labelled 'p'. [1]\n",
    "\n",
    "<a><img src=\"images/BinomialProbability.png\"></a>\n",
    "\n",
    "In the example above 10 was the number of trials (N = 10), x is equal to 4 (success of 4 heads). \n",
    "Therefore:\n",
    "    \n",
    "            => N! = 10*9*8*7*6*5*4*3*2*1\n",
    "            => N! = 362800\n",
    "            \n",
    "            => x!(n-x)! = 4*3*2*1(6*5*4*3*2*1)\n",
    "            => x!(n-x)! = 24 * 720\n",
    "            => x!(n-x)! = 17280\n",
    "            \n",
    "            => N!/x!(n-x)! = 362800/17280\n",
    "            => N!/x!(n-x)! = 210.0\n",
    "            \n",
    "            or\n",
    "            \n",
    "            => N! = 10*9*8*7*6*5*4*3*2*1\n",
    "            => x!(n-x)! = 4*3*2*1(6*5*4*3*2*1)\n",
    "            => 10*9*8*7*6*5*4*3*2*1/4*3*2*1(6*5*4*3*2*1) ... (6*5*4*3*2*1) cancels out \n",
    "            => Final Results = (10 * 9 * 8 * 7) / (4 * 3 * 2 * 1) i.e. 210.0"
   ]
  },
  {
   "cell_type": "code",
   "execution_count": 2,
   "id": "5838245f",
   "metadata": {},
   "outputs": [
    {
     "data": {
      "text/plain": [
       "210.0"
      ]
     },
     "execution_count": 2,
     "metadata": {},
     "output_type": "execute_result"
    }
   ],
   "source": [
    "#Calculation\n",
    "\n",
    "#N!= 10*9*8*7*6*5*4*3*2*1\n",
    "N = 10*9*8*7*6*5*4*3*2*1\n",
    "\n",
    "#x!(n-x)! = 4*3*2*1(6*5*4*3*2*1)\n",
    "x = 4*3*2*1\n",
    "n_sub_x = 6*5*4*3*2*1\n",
    "\n",
    "sub_result = (x * n_sub_x)\n",
    "\n",
    "final_result = (N/sub_result)\n",
    "\n",
    "final_result\n"
   ]
  },
  {
   "cell_type": "markdown",
   "id": "ef1cd5dd",
   "metadata": {},
   "source": [
    "###### Question 3 - Does it always come out as a positive whole number?\n",
    "As the probability for the binomial distribution is 0.5 for success or failure the outcome will be a positive whole number. [2]"
   ]
  },
  {
   "cell_type": "markdown",
   "id": "c57d1a18",
   "metadata": {},
   "source": [
    "### 3. References \n",
    "1. Binomial Distribution - Explaination and equation. Located here: https://www.itl.nist.gov/div898/handbook/eda/section3/eda366i.htm#:~:text=The%20binomial%20distribution%20is%20used%20to%20obtain%20the%20probability%20of,is%20fixed%20for%20all%20trials.\n",
    "2. Binomial Distribution - Will the outcome be positive whole numbers. Located here - https://www.oreilly.com/library/view/statistics-for-six/0132291959/0132291959_ch05lev2sec3.html"
   ]
  },
  {
   "cell_type": "markdown",
   "id": "895761b8",
   "metadata": {},
   "source": [
    "# Exercise 2 - Note that there are the same number of ways to get 4 tails as there to get 4 heads. Explain why this is.\n",
    "\n",
    "## 1. Overview \n",
    "The probability of obtaining x sucesses in n independent trails where p is the probability of success. As determined in exercise 1 (n!/(x!(n-x)!) is equal to (10*9*8*7)/(4*3*2*1).[3,4]\n",
    "<br>\n",
    "In the example above n=10, x=4, p=0.5\n",
    "\n",
    "<a><img src=\"images/BinomialProbability.png\"></a>\n",
    "\n",
    "Let's look at the example below [2]\n",
    "<a><img src=\"images/coin_probability.png\"></a>\n",
    "\n",
    "You can see there's 1 way of getting all heads and 1 way of getting all tails. When it's broken out into a table we can see why the probability of achieving all heads or all tails is the same however let's add each outcome into the formula above to prove this theory. "
   ]
  },
  {
   "cell_type": "markdown",
   "id": "0a9500c0",
   "metadata": {},
   "source": [
    "## 2. Calculation"
   ]
  },
  {
   "cell_type": "code",
   "execution_count": null,
   "id": "830881ae",
   "metadata": {},
   "outputs": [],
   "source": [
    "import matplotlib.pyplot as plt"
   ]
  },
  {
   "cell_type": "code",
   "execution_count": null,
   "id": "2a423650",
   "metadata": {},
   "outputs": [],
   "source": [
    "four_heads = (10*9*8*7)/(4*3*2*1) # Number of ways of getting 4 heads in 10 flips x being the success of heads = 210\n",
    "three_heads = (10*9*8)/(3*2*1) \n",
    "two_heads = (10*9)/(2*1)\n",
    "one_head = (10)/(1)\n",
    "\n",
    "four_tails = (10*9*8*7)/(4*3*2*1)\n",
    "three_tails = (10*9*8)/(3*2*1) \n",
    "two_tails = (10*9)/(2*1)\n",
    "one_tail = (10)/(1)\n",
    "\n",
    "fig = plt.figure()\n",
    "ax = fig.add_axes([0,0,1,1])\n",
    "columns = ['one_tail','two_tails','three_tails', 'four_tails', 'four_head', 'three_head','two_head', 'one_head']\n",
    "data = [one_tail,two_tails,three_tails, four_tails,four_heads,three_heads,two_heads,one_head]\n",
    "ax.bar(columns, data)\n",
    "plt.show()"
   ]
  },
  {
   "cell_type": "code",
   "execution_count": null,
   "id": "c8371a93",
   "metadata": {},
   "outputs": [],
   "source": [
    "one_tail"
   ]
  },
  {
   "cell_type": "code",
   "execution_count": 3,
   "id": "c9060fe5",
   "metadata": {},
   "outputs": [
    {
     "name": "stdout",
     "output_type": "stream",
     "text": [
      "\f",
      " The proabaility of getting 4 heads in 10 flips is the number of outcomes/trials i.e 21.0 %\n",
      "\f",
      " The proabaility of getting 3 heads in 10 flips is the number of outcomes/trials i.e 12.0 %\n",
      "\f",
      " The proabaility of getting 2 heads in 10 flips is the number of outcomes/trials i.e 4.5 %\n",
      "\f",
      " The proabaility of getting 1 heads in 10 flips is the number of outcomes/trials i.e 1.0 %\n",
      "\n",
      "_______________________________________________________\n",
      "\n",
      "\f",
      " The proabaility of getting 4 tails in 10 flips is the number of outcomes/trials i.e 21.0 %\n",
      "\f",
      " The proabaility of getting 3 tails in 10 flips is the number of outcomes/trials i.e 12.0 %\n",
      "\f",
      " The proabaility of getting 2 tails in 10 flips is the number of outcomes/trials i.e 4.5 %\n",
      "\f",
      " The proabaility of getting 1 tails in 10 flips is the number of outcomes/trials i.e 1.0 %\n"
     ]
    }
   ],
   "source": [
    "\n",
    "# probability of getting heads from 10 flips\n",
    "\n",
    "print(\"\\f The proabaility of getting 4 heads in 10 flips is the number of outcomes/trials i.e\", 210/10 ,'%')\n",
    "print(\"\\f The proabaility of getting 3 heads in 10 flips is the number of outcomes/trials i.e\", 120/10 ,'%')\n",
    "print(\"\\f The proabaility of getting 2 heads in 10 flips is the number of outcomes/trials i.e\", 45/10 ,'%')\n",
    "print(\"\\f The proabaility of getting 1 heads in 10 flips is the number of outcomes/trials i.e\", 10/10,'%' )\n",
    "\n",
    "\n",
    "\n",
    "#probability of getting tails from 10 flips\n",
    "print(\"\\n_______________________________________________________\\n\")\n",
    "print(\"\\f The proabaility of getting 4 tails in 10 flips is the number of outcomes/trials i.e\", 210/10 ,'%')\n",
    "print(\"\\f The proabaility of getting 3 tails in 10 flips is the number of outcomes/trials i.e\", 120/10 ,'%')\n",
    "print(\"\\f The proabaility of getting 2 tails in 10 flips is the number of outcomes/trials i.e\", 45/10 ,'%')\n",
    "print(\"\\f The proabaility of getting 1 tails in 10 flips is the number of outcomes/trials i.e\", 10/10,'%' )\n"
   ]
  },
  {
   "cell_type": "markdown",
   "id": "7a2920b4",
   "metadata": {},
   "source": [
    "<b> Conclusion \n",
    "    \n",
    "From the calculations above it is clear that the probability of getting 4 heads or four tails is the same. As all the parameters are the same between both outcomes, 50/50% success or failute rate, both outcomes independent of each other resulting in the same number of potential outcomes. \n",
    "    \n",
    "## 3. References \n",
    "1. Referencing the binomial calculation for calculating probability. https://www.wallstreetmojo.com/binomial-distribution-formula/#:~:text=The%20formula%20to%20calculate%20combinations,known%20as%20the%20Bernoulli%20distribution.\n",
    "2. Theory on coin flip probability. Located here: https://www.fourmilab.ch/rpkp/experiments/statistics.html\n",
    "3. Binomial Distribution - Explaination and equation. Located here: https://www.itl.nist.gov/div898/handbook/eda/section3/eda366i.htm#:~:text=The%20binomial%20distribution%20is%20used%20to%20obtain%20the%20probability%20of,is%20fixed%20for%20all%20trials.\n",
    "4. Binomial Distribution - Will the outcome be positive whole numbers. Located here - https://www.oreilly.com/library/view/statistics-for-six/0132291959/0132291959_ch05lev2sec3.html"
   ]
  },
  {
   "cell_type": "markdown",
   "id": "2816e799",
   "metadata": {},
   "source": [
    "\n",
    "# Randomness Exercise 3 - Plot bar charts or histograms of any three different distributions listed at the following link:\n",
    "\n",
    "### https://numpy.org/doc/stable/reference/random/generator.html"
   ]
  },
  {
   "cell_type": "markdown",
   "id": "35e18bfa",
   "metadata": {},
   "source": [
    "## 1. Overview \n",
    "\n",
    "The random generator package in python allows for the generation of a wide range of distributions[1]. The following histograms were used in this exercise:\n",
    "- noncentral_chisquare: This type of distribution where the central parameter is not equal to zero. [3]\n",
    "- chisquare: This type of distribution used for multple hypothesis formations. It operates on the concept of continuous probability distribution. [4]\n",
    "- normal: This type of distribution is probabily one of the most common. Where the mean is the maximum point on the symeterical graph. [5]"
   ]
  },
  {
   "cell_type": "markdown",
   "id": "b023140e",
   "metadata": {},
   "source": [
    "## 2. Calculation"
   ]
  },
  {
   "cell_type": "code",
   "execution_count": 3,
   "id": "0cc8302d",
   "metadata": {},
   "outputs": [
    {
     "data": {
      "image/png": "[encoded data removed]",
      "text/plain": [
       "<Figure size 640x480 with 1 Axes>"
      ]
     },
     "metadata": {},
     "output_type": "display_data"
    }
   ],
   "source": [
    "import numpy as np\n",
    "import matplotlib.pyplot as plt\n",
    "\n",
    "\n",
    "data = np.random.default_rng()\n",
    "\n",
    "values = plt.hist(data.noncentral_chisquare(3, 20, 100000),\n",
    "                  bins=100, density=True)\n",
    "plt.show()"
   ]
  },
  {
   "cell_type": "code",
   "execution_count": 4,
   "id": "ffaf5ea2",
   "metadata": {},
   "outputs": [
    {
     "data": {
      "image/png": "[encoded data removed]",
      "text/plain": [
       "<Figure size 640x480 with 1 Axes>"
      ]
     },
     "metadata": {},
     "output_type": "display_data"
    }
   ],
   "source": [
    "values = plt.hist(data.chisquare(3, 100000),\n",
    "                  bins=100, density=True)\n",
    "plt.show()"
   ]
  },
  {
   "cell_type": "code",
   "execution_count": 5,
   "id": "6de2fad4",
   "metadata": {},
   "outputs": [
    {
     "data": {
      "image/png": "[encoded data removed]",
      "text/plain": [
       "<Figure size 640x480 with 1 Axes>"
      ]
     },
     "metadata": {},
     "output_type": "display_data"
    }
   ],
   "source": [
    "values = plt.hist(data.normal(2, 5, 10000),\n",
    "                  bins=100, density=True)\n",
    "plt.show()"
   ]
  },
  {
   "cell_type": "markdown",
   "id": "aafe5189",
   "metadata": {},
   "source": [
    "## 3. References"
   ]
  },
  {
   "cell_type": "markdown",
   "id": "908011a1",
   "metadata": {},
   "source": [
    "1. Different Distributions and the refernce to randome number generator. Located here: https://numpy.org/doc/stable/reference/random/generator.html\n",
    "2. Reference to non-central distribution. Located here: https://numpy.org/doc/stable/reference/random/generated/numpy.random.Generator.noncentral_chisquare.html\n",
    "3. Noncentral distribution: https://dictionary.apa.org/noncentral-distribution\n",
    "4. chi-square distribution https://www.scribbr.com/statistics/chi-square-distributions/\n",
    "5. Normal Distribution: https://www.britannica.com/topic/normal-distribution"
   ]
  },
  {
   "cell_type": "code",
   "execution_count": null,
   "id": "704ec9fd",
   "metadata": {},
   "outputs": [],
   "source": []
  }
 ],
 "metadata": {
  "kernelspec": {
   "display_name": "Python 3 (ipykernel)",
   "language": "python",
   "name": "python3"
  },
  "language_info": {
   "codemirror_mode": {
    "name": "ipython",
    "version": 3
   },
   "file_extension": ".py",
   "mimetype": "text/x-python",
   "name": "python",
   "nbconvert_exporter": "python",
   "pygments_lexer": "ipython3",
   "version": "3.11.0"
  }
 },
 "nbformat": 4,
 "nbformat_minor": 5
}
