{
 "cells": [
  {
   "cell_type": "markdown",
   "id": "d9614165",
   "metadata": {},
   "source": [
    "<a><img src=\"images/ATUlogo.png\"></a>\n",
    "# Bias: Exercise 1 - Give three real-world examples of different types of cognitive bias.\n",
    "\n",
    "## 1. Overview\n",
    "According to John Manoogian III and Buster Benson it is estimated that there are 180 types of cognative biases. [2]\n",
    "\n",
    "### 1.1. Confirmation Bias\n",
    "The concept of confirmation bias is looking for information that confirms our beliefs or expectations. e.g. It is commonly thought that if a person if lying they display certain traits e.g. not looking at someone when telling the lie, figiting, appear flush etc. Confirmation Bias would be looking for these traits and submitting a judgement on that bases. [2]\n",
    "\n",
    "### 1.2. Gender Bias\n",
    "Gender Bias is the tendency to assign specific characteristics to a gender without supporting evidence. e.g. In a previous role a company made the male changing rooms twice the size of the female changing rooms. As it happened they hired more females than males however there was not enough room in the changing rooms to support the additional female staff. There was an assumption made that becuase this was an drug-engineer manufacturing site there would be more males than females. This cost the company money in redoing the female changing rooms to ensure that both changing rooms were equal in capacity[2]\n",
    "\n",
    "### 1.3  Group attribution error\n",
    "The bases of this concept is the judgement of a group following a singluar interaction with one member of the group. e.g. A tourist might meet one drunk irish person in a bar. Assumption of the tourist is that all irish people love to drink. [2]\n",
    "\n",
    "\n",
    "## 2. References\n",
    "1. Types of Unconsious Bias: https://asana.com/resources/unconscious-bias-examples\n",
    "2. Types of Congnitive Bias: https://positivepsychology.com/cognitive-biases/#cognitive-biases"
   ]
  },
  {
   "cell_type": "markdown",
   "id": "dcc286f5",
   "metadata": {},
   "source": [
    "\n",
    "# Title: Bias Exercise 2 - Show that the difference between the standard deviation calculations is greatest for small sample sizes."
   ]
  },
  {
   "cell_type": "markdown",
   "id": "4bef0455",
   "metadata": {},
   "source": [
    "## 1. OverView "
   ]
  },
  {
   "cell_type": "markdown",
   "id": "c443ea9d",
   "metadata": {},
   "source": [
    "Standard deviation (std) is an quantity expression by how samples differ in mean value from a population. Std is calculated as the square root of variance by determining each sample's deviation rleative to the mean [3] Std is an important concept as it helps to evaluate risk and describes how dispersed the set of data is. \n",
    "\n",
    "In statistical studies there is a general concept that bigger is better when it comes to sample sizes. [1] The greater the difference between samples and the mean the higher the std. \n",
    "\n",
    "\n",
    "<h3>Why is bigger better?</h3>\n",
    "\n",
    "<b>1. More closely represent the population</b>\n",
    "\n",
    "As a mathamtician you can get a better understanding of the population with a larger sample size and generate more concret evidence of your conclusion. For example, if you asked 5 people in the state of california if they are a democrat or a republican. The probability of selecting 5 democrats in a laregly democratic state is high. In this instance the study does not take into account the rest of the states to determine the % of americans that are democratic or republican. Therefore a larger sample size is perferred in this instance.\n",
    "\n",
    "<b>2. T-test for a single mean.</b>\n",
    "\n",
    "A calculation to see if one sample mean is significantly different from the population mean. In the figure below (figure 1) (x-u) represents the difference between the sample mean and the population mean. The difference is divided by the standard error (s-x). This takes into acount the sample variability. The ration difference from population mean relative to sampling variability is denoted by 't' in the equation below. \n",
    "\n",
    "\n",
    "<b>3.  Value of standard error is directly dependent on the sample size. </b>\n",
    "\n",
    "In the equation below (figure 2) S-x is the standard error, s is the std, n is the sample size. The larger the sample size the more power there is for the user to predict the correct outcome as the standard of error decreases with the larger sample size. (Refer to section 2. Calculations for evidence).\n",
    "\n",
    "<b>4. Central limit theorem </b>\n",
    "\n",
    "If the sample size is large enough the sampleing distribution will be a normal distribution. \n",
    "\n",
    "<a><img src=\"images/t-test.png\"></a>\n",
    "\n",
    "Figure 1. Tea test of difference between sample mean and population mean \n",
    "\n",
    "<a><img src=\"images/StandardError.png\"></a>\n",
    "Figure 2. Calculating the standard error from std and sample size. \n",
    "\n",
    "<a><img src=\"images/stdformula.png\"></a>\n",
    "Figure 3. Calculating the standard deviation"
   ]
  },
  {
   "cell_type": "markdown",
   "id": "faf622f2",
   "metadata": {},
   "source": [
    "## 2. Calculation"
   ]
  },
  {
   "cell_type": "code",
   "execution_count": 1,
   "id": "b2c25c56",
   "metadata": {},
   "outputs": [],
   "source": [
    "import math "
   ]
  },
  {
   "cell_type": "markdown",
   "id": "cc281292",
   "metadata": {},
   "source": [
    "<b> 2.1. Standard deviation and the effect of population Calculations </b>"
   ]
  },
  {
   "cell_type": "code",
   "execution_count": 2,
   "id": "a05720f0",
   "metadata": {},
   "outputs": [
    {
     "data": {
      "text/plain": [
       "7.0710678118654755"
      ]
     },
     "execution_count": 2,
     "metadata": {},
     "output_type": "execute_result"
    }
   ],
   "source": [
    "# calculating std where population small. \n",
    "N = 2\n",
    "X = 100\n",
    "Xi = 95\n",
    "\n",
    "power = ((105 - 100)**2)+((95 - 100)**2)\n",
    "std = (power/(N-1))\n",
    "math.sqrt(std)"
   ]
  },
  {
   "cell_type": "code",
   "execution_count": 3,
   "id": "a4c83d89",
   "metadata": {},
   "outputs": [
    {
     "data": {
      "text/plain": [
       "3.5355339059327378"
      ]
     },
     "execution_count": 3,
     "metadata": {},
     "output_type": "execute_result"
    }
   ],
   "source": [
    "# calculating std where population slightly bigger.  \n",
    "N = 5\n",
    "X = 100\n",
    "Xi = 95\n",
    "\n",
    "power = ((100 - 100)**2)+((100 - 100)**2)+ ((100 - 100)**2)+((105 - 100)**2)+ ((95 - 100)**2)\n",
    "std = (power/(N-1))\n",
    "math.sqrt(std)"
   ]
  },
  {
   "cell_type": "code",
   "execution_count": 4,
   "id": "1a0c8d8f",
   "metadata": {},
   "outputs": [
    {
     "data": {
      "text/plain": [
       "2.3570226039551585"
      ]
     },
     "execution_count": 4,
     "metadata": {},
     "output_type": "execute_result"
    }
   ],
   "source": [
    "# calculating std where population bigger again  \n",
    "N = 10\n",
    "X = 100\n",
    "Xi = 95\n",
    "\n",
    "power = ((100 - 100)**2)+((100 - 100)**2)+ ((100 - 100)**2)+((105 - 100)**2)+((95 - 100)**2)+((100 - 100)**2)+((100 - 100)**2)+ ((100 - 100)**2)+((100 - 100)**2)+ ((100 - 100)**2)\n",
    "std = (power/(N-1))\n",
    "math.sqrt(std)"
   ]
  },
  {
   "cell_type": "markdown",
   "id": "10a76fbd",
   "metadata": {},
   "source": [
    "You can see from the above examples that the larger the population size the smaller the std. "
   ]
  },
  {
   "cell_type": "markdown",
   "id": "c8761b88",
   "metadata": {},
   "source": [
    "<b> 2.2. Standard Error and the effect of population size Calculations </b>"
   ]
  },
  {
   "cell_type": "code",
   "execution_count": 5,
   "id": "be42b726",
   "metadata": {},
   "outputs": [
    {
     "data": {
      "text/plain": [
       "0.1"
      ]
     },
     "execution_count": 5,
     "metadata": {},
     "output_type": "execute_result"
    }
   ],
   "source": [
    "import math \n",
    "# Fist lets make the population large. n = 10'000\n",
    "s = 10\n",
    "n = 10000\n",
    "\n",
    "nroot = math.sqrt(n)\n",
    "# nroot= is 100.0\n",
    "std_error = s/nroot\n",
    "std_error"
   ]
  },
  {
   "cell_type": "code",
   "execution_count": 6,
   "id": "0543bf7c",
   "metadata": {},
   "outputs": [
    {
     "data": {
      "text/plain": [
       "0.31622776601683794"
      ]
     },
     "execution_count": 6,
     "metadata": {},
     "output_type": "execute_result"
    }
   ],
   "source": [
    "# Second Lets compare when the population of n is smaller. n = 1'000\n",
    "s = 10\n",
    "n = 1000\n",
    "\n",
    "nroot = math.sqrt(n)\n",
    "# nroot= is 31.6228\n",
    "std_error = s/nroot\n",
    "std_error\n"
   ]
  },
  {
   "cell_type": "code",
   "execution_count": 7,
   "id": "e7dc2b24",
   "metadata": {},
   "outputs": [
    {
     "data": {
      "text/plain": [
       "1.0"
      ]
     },
     "execution_count": 7,
     "metadata": {},
     "output_type": "execute_result"
    }
   ],
   "source": [
    "# Third Lets compare when the population of n is even smaller. n = 100\n",
    "s = 10\n",
    "n = 100\n",
    "\n",
    "nroot = math.sqrt(n)\n",
    "#nroot= 10.0\n",
    "std_error = s/nroot\n",
    "std_error\n",
    "\n"
   ]
  },
  {
   "cell_type": "markdown",
   "id": "a3d36e0f",
   "metadata": {},
   "source": [
    "You can see from the calculations above that when the population gets larger the standard error decreases. When the population size is small the standard error increases. "
   ]
  },
  {
   "cell_type": "markdown",
   "id": "5fa77a19",
   "metadata": {},
   "source": [
    "## 3. References "
   ]
  },
  {
   "cell_type": "markdown",
   "id": "a5673206",
   "metadata": {},
   "source": [
    "1. https://web.pdx.edu/~newsomj/pa551/lecture4.htm\n",
    "2. Math square root, W3 schools: https://www.w3schools.com/python/ref_math_sqrt.asp#:~:text=The%20math.,square%20root%20of%20a%20number.\n",
    "3. https://www.investopedia.com/terms/s/standarddeviation.asp"
   ]
  }
 ],
 "metadata": {
  "kernelspec": {
   "display_name": "Python 3 (ipykernel)",
   "language": "python",
   "name": "python3"
  },
  "language_info": {
   "codemirror_mode": {
    "name": "ipython",
    "version": 3
   },
   "file_extension": ".py",
   "mimetype": "text/x-python",
   "name": "python",
   "nbconvert_exporter": "python",
   "pygments_lexer": "ipython3",
   "version": "3.11.0"
  }
 },
 "nbformat": 4,
 "nbformat_minor": 5
}
